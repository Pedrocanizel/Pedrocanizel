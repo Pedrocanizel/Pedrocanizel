{
  "nbformat": 4,
  "nbformat_minor": 0,
  "metadata": {
    "colab": {
      "provenance": []
    },
    "kernelspec": {
      "name": "python3",
      "display_name": "Python 3"
    },
    "language_info": {
      "name": "python"
    }
  },
  "cells": [
    {
      "cell_type": "markdown",
      "source": [
        "# Script abaixo eu costumo utilizar para meus estudos, ele configura o spark no google collab e faz várias outras coisas para facilitar meus trabalhos"
      ],
      "metadata": {
        "id": "0x_i2N0RTFej"
      }
    },
    {
      "cell_type": "code",
      "execution_count": 2,
      "metadata": {
        "colab": {
          "base_uri": "https://localhost:8080/"
        },
        "id": "NbDql1jWQYgL",
        "outputId": "0def47c8-105a-4cf3-84fd-46ee4e233232"
      },
      "outputs": [
        {
          "output_type": "stream",
          "name": "stdout",
          "text": [
            "--2023-10-06 18:33:15--  https://archive.apache.org/dist/spark/spark-3.2.2/spark-3.2.2-bin-hadoop3.2.tgz\n",
            "Resolving archive.apache.org (archive.apache.org)... 65.108.204.189, 2a01:4f9:1a:a084::2\n",
            "Connecting to archive.apache.org (archive.apache.org)|65.108.204.189|:443... connected.\n",
            "HTTP request sent, awaiting response... 200 OK\n",
            "Length: 301112604 (287M) [application/x-gzip]\n",
            "Saving to: ‘spark-3.2.2-bin-hadoop3.2.tgz’\n",
            "\n",
            "spark-3.2.2-bin-had 100%[===================>] 287.16M  7.08MB/s    in 3m 26s  \n",
            "\n",
            "2023-10-06 18:36:41 (1.39 MB/s) - ‘spark-3.2.2-bin-hadoop3.2.tgz’ saved [301112604/301112604]\n",
            "\n"
          ]
        },
        {
          "output_type": "stream",
          "name": "stderr",
          "text": [
            "WARNING:root:'PYARROW_IGNORE_TIMEZONE' environment variable was not set. It is required to set this environment variable to '1' in both driver and executor sides if you use pyarrow>=2.0.0. pandas-on-Spark will set it for you but it does not work if there is a Spark context already launched.\n"
          ]
        }
      ],
      "source": [
        "!apt-get install openjdk-11-jdk-headless -qq > /dev/null\n",
        "!wget https://archive.apache.org/dist/spark/spark-3.2.2/spark-3.2.2-bin-hadoop3.2.tgz\n",
        "!tar xf spark-3.2.2-bin-hadoop3.2.tgz\n",
        "!pip install -q findspark pandas numpy\n",
        "\n",
        "# configurar as variáveis de ambiente\n",
        "import os\n",
        "os.environ[\"JAVA_HOME\"] = \"/usr/lib/jvm/java-11-openjdk-amd64\"\n",
        "os.environ[\"SPARK_HOME\"] = \"/content/spark-3.2.2-bin-hadoop3.2\"\n",
        "\n",
        "# tornar o pyspark \"importável\"\n",
        "import findspark\n",
        "findspark.init('spark-3.2.2-bin-hadoop3.2')\n",
        "\n",
        "\n",
        "from pyspark.sql import functions as func\n",
        "from pyspark.sql import SparkSession\n",
        "from pyspark.sql import types as T\n",
        "from pyspark.sql import functions as F\n",
        "import pyspark.pandas as ps\n",
        "import pandas as pd\n",
        "import numpy as np\n",
        "import warnings, re\n",
        "\n",
        "warnings.filterwarnings('ignore')\n",
        "pd.set_option('display.max_columns', None)\n",
        "\n",
        "\n",
        "# Instanciando Spark\n",
        "spark = SparkSession.builder.master('local[*]').getOrCreate()"
      ]
    },
    {
      "cell_type": "markdown",
      "source": [
        "# Criando 2 dataframes com o schema idêntico para realizar o union"
      ],
      "metadata": {
        "id": "Ocl_pkELTJZY"
      }
    },
    {
      "cell_type": "code",
      "source": [
        "df_1 = (spark.read.format(\"csv\").options(header=\"true\")\n",
        "    .load(\"/content/Draft_Picks_From_Duke.csv\"))\n",
        "\n",
        "df_2 = (spark.read.format(\"csv\").options(header=\"true\")\n",
        "    .load(\"/content/Draft_Picks_From_Duke.csv\"))"
      ],
      "metadata": {
        "id": "xslWI6eSQZio"
      },
      "execution_count": 5,
      "outputs": []
    },
    {
      "cell_type": "code",
      "source": [
        "df_1.printSchema()"
      ],
      "metadata": {
        "colab": {
          "base_uri": "https://localhost:8080/"
        },
        "id": "v3JYif5ZRyzT",
        "outputId": "6d8cf9ac-070e-425b-a0f5-009ceb770552"
      },
      "execution_count": 7,
      "outputs": [
        {
          "output_type": "stream",
          "name": "stdout",
          "text": [
            "root\n",
            " |-- Player: string (nullable = true)\n",
            " |-- Year: string (nullable = true)\n",
            " |-- Rd: string (nullable = true)\n",
            " |-- Overall: string (nullable = true)\n",
            " |-- From: string (nullable = true)\n",
            " |-- To: string (nullable = true)\n",
            " |-- G: string (nullable = true)\n",
            " |-- MP: string (nullable = true)\n",
            " |-- FG: string (nullable = true)\n",
            " |-- FGA: string (nullable = true)\n",
            " |-- 3P: string (nullable = true)\n",
            " |-- 3PA: string (nullable = true)\n",
            " |-- FT: string (nullable = true)\n",
            " |-- FTA: string (nullable = true)\n",
            " |-- ORB: string (nullable = true)\n",
            " |-- TRB: string (nullable = true)\n",
            " |-- AST: string (nullable = true)\n",
            " |-- STL: string (nullable = true)\n",
            " |-- BLK: string (nullable = true)\n",
            " |-- TOV: string (nullable = true)\n",
            " |-- PF: string (nullable = true)\n",
            " |-- PTS: string (nullable = true)\n",
            " |-- FG%: string (nullable = true)\n",
            " |-- 3P%: string (nullable = true)\n",
            " |-- FT%: string (nullable = true)\n",
            " |-- MP/G: string (nullable = true)\n",
            " |-- PTS/G: string (nullable = true)\n",
            " |-- TRB/G: string (nullable = true)\n",
            " |-- AST/G: string (nullable = true)\n",
            "\n"
          ]
        }
      ]
    },
    {
      "cell_type": "code",
      "source": [
        "df_2.printSchema()"
      ],
      "metadata": {
        "colab": {
          "base_uri": "https://localhost:8080/"
        },
        "id": "genYsaTnR5tK",
        "outputId": "0db2894a-b7d2-4ab3-af78-69b34dd5b7f3"
      },
      "execution_count": 8,
      "outputs": [
        {
          "output_type": "stream",
          "name": "stdout",
          "text": [
            "root\n",
            " |-- Player: string (nullable = true)\n",
            " |-- Year: string (nullable = true)\n",
            " |-- Rd: string (nullable = true)\n",
            " |-- Overall: string (nullable = true)\n",
            " |-- From: string (nullable = true)\n",
            " |-- To: string (nullable = true)\n",
            " |-- G: string (nullable = true)\n",
            " |-- MP: string (nullable = true)\n",
            " |-- FG: string (nullable = true)\n",
            " |-- FGA: string (nullable = true)\n",
            " |-- 3P: string (nullable = true)\n",
            " |-- 3PA: string (nullable = true)\n",
            " |-- FT: string (nullable = true)\n",
            " |-- FTA: string (nullable = true)\n",
            " |-- ORB: string (nullable = true)\n",
            " |-- TRB: string (nullable = true)\n",
            " |-- AST: string (nullable = true)\n",
            " |-- STL: string (nullable = true)\n",
            " |-- BLK: string (nullable = true)\n",
            " |-- TOV: string (nullable = true)\n",
            " |-- PF: string (nullable = true)\n",
            " |-- PTS: string (nullable = true)\n",
            " |-- FG%: string (nullable = true)\n",
            " |-- 3P%: string (nullable = true)\n",
            " |-- FT%: string (nullable = true)\n",
            " |-- MP/G: string (nullable = true)\n",
            " |-- PTS/G: string (nullable = true)\n",
            " |-- TRB/G: string (nullable = true)\n",
            " |-- AST/G: string (nullable = true)\n",
            "\n"
          ]
        }
      ]
    },
    {
      "cell_type": "markdown",
      "source": [
        "# Realizando o Union \"convencional\" que costumammos aprender com SQL, onde o layout das nossas tabelas devem ser idênticos."
      ],
      "metadata": {
        "id": "sRx09TbdTR_d"
      }
    },
    {
      "cell_type": "code",
      "source": [
        "union_df = df_1.union(df_2)"
      ],
      "metadata": {
        "id": "p_RC8JW3R-Ex"
      },
      "execution_count": 9,
      "outputs": []
    },
    {
      "cell_type": "code",
      "source": [
        "union_df.printSchema()"
      ],
      "metadata": {
        "colab": {
          "base_uri": "https://localhost:8080/"
        },
        "id": "NRU-3lXvS3AI",
        "outputId": "7ca26752-ca24-4f50-c37d-3fbac98b18db"
      },
      "execution_count": 15,
      "outputs": [
        {
          "output_type": "stream",
          "name": "stdout",
          "text": [
            "root\n",
            " |-- Player: string (nullable = true)\n",
            " |-- Year: string (nullable = true)\n",
            " |-- Rd: string (nullable = true)\n",
            " |-- Overall: string (nullable = true)\n",
            " |-- From: string (nullable = true)\n",
            " |-- To: string (nullable = true)\n",
            " |-- G: string (nullable = true)\n",
            " |-- MP: string (nullable = true)\n",
            " |-- FG: string (nullable = true)\n",
            " |-- FGA: string (nullable = true)\n",
            " |-- 3P: string (nullable = true)\n",
            " |-- 3PA: string (nullable = true)\n",
            " |-- FT: string (nullable = true)\n",
            " |-- FTA: string (nullable = true)\n",
            " |-- ORB: string (nullable = true)\n",
            " |-- TRB: string (nullable = true)\n",
            " |-- AST: string (nullable = true)\n",
            " |-- STL: string (nullable = true)\n",
            " |-- BLK: string (nullable = true)\n",
            " |-- TOV: string (nullable = true)\n",
            " |-- PF: string (nullable = true)\n",
            " |-- PTS: string (nullable = true)\n",
            " |-- FG%: string (nullable = true)\n",
            " |-- 3P%: string (nullable = true)\n",
            " |-- FT%: string (nullable = true)\n",
            " |-- MP/G: string (nullable = true)\n",
            " |-- PTS/G: string (nullable = true)\n",
            " |-- TRB/G: string (nullable = true)\n",
            " |-- AST/G: string (nullable = true)\n",
            "\n"
          ]
        }
      ]
    },
    {
      "cell_type": "markdown",
      "source": [
        "# Obtendo uma lista das nossas colunas para facilitar meus próximos passos"
      ],
      "metadata": {
        "id": "SMRlkCWSTeeb"
      }
    },
    {
      "cell_type": "code",
      "source": [
        "df_2.columns"
      ],
      "metadata": {
        "colab": {
          "base_uri": "https://localhost:8080/"
        },
        "id": "PxdRErRESS1m",
        "outputId": "f365ef35-3861-4769-f305-1372f2d37fd8"
      },
      "execution_count": 11,
      "outputs": [
        {
          "output_type": "execute_result",
          "data": {
            "text/plain": [
              "['Player',\n",
              " 'Year',\n",
              " 'Rd',\n",
              " 'Overall',\n",
              " 'From',\n",
              " 'To',\n",
              " 'G',\n",
              " 'MP',\n",
              " 'FG',\n",
              " 'FGA',\n",
              " '3P',\n",
              " '3PA',\n",
              " 'FT',\n",
              " 'FTA',\n",
              " 'ORB',\n",
              " 'TRB',\n",
              " 'AST',\n",
              " 'STL',\n",
              " 'BLK',\n",
              " 'TOV',\n",
              " 'PF',\n",
              " 'PTS',\n",
              " 'FG%',\n",
              " '3P%',\n",
              " 'FT%',\n",
              " 'MP/G',\n",
              " 'PTS/G',\n",
              " 'TRB/G',\n",
              " 'AST/G']"
            ]
          },
          "metadata": {},
          "execution_count": 11
        }
      ]
    },
    {
      "cell_type": "markdown",
      "source": [
        "# Criando um novo dataframe com as mesmas colunas do df_2 mas em ordem diferente, as colunas que estão na linha 1 são as que eu tirei da ordem, menos a Player"
      ],
      "metadata": {
        "id": "mQ4uEIFnTjm6"
      }
    },
    {
      "cell_type": "code",
      "source": [
        "df_2_nova_ordem = df_2.select('Player', 'BLK', 'PTS/G', 'FGA', 'FG%', 'FT%',\n",
        " 'Year',\n",
        " 'Rd',\n",
        " 'Overall',\n",
        " 'From',\n",
        " 'To',\n",
        " 'G',\n",
        " 'MP',\n",
        " 'FG',\n",
        " '3P',\n",
        " '3PA',\n",
        " 'FT',\n",
        " 'FTA',\n",
        " 'ORB',\n",
        " 'TRB',\n",
        " 'AST',\n",
        " 'STL',\n",
        " 'TOV',\n",
        " 'PF',\n",
        " 'PTS',\n",
        " '3P%',\n",
        " 'MP/G',\n",
        " 'TRB/G',\n",
        " 'AST/G')"
      ],
      "metadata": {
        "id": "cKkVD4DxSYTd"
      },
      "execution_count": 12,
      "outputs": []
    },
    {
      "cell_type": "markdown",
      "source": [
        "# Fazendo um Union by Name, ou seja, temos exatamente as mesmas colunas nos 2 dfs, mas em diferentes ordens."
      ],
      "metadata": {
        "id": "sZj3QWhtTx7Y"
      }
    },
    {
      "cell_type": "code",
      "source": [
        "union_df_by_name = df_1.unionByName(df_2_nova_ordem)"
      ],
      "metadata": {
        "id": "VFX2mBouQZm4"
      },
      "execution_count": 14,
      "outputs": []
    },
    {
      "cell_type": "code",
      "source": [
        "union_df_by_name.printSchema()"
      ],
      "metadata": {
        "colab": {
          "base_uri": "https://localhost:8080/"
        },
        "id": "YosU2kgZQZrY",
        "outputId": "9f91f539-992c-45e5-98a7-64b9ebcbfb24"
      },
      "execution_count": 16,
      "outputs": [
        {
          "output_type": "stream",
          "name": "stdout",
          "text": [
            "root\n",
            " |-- Player: string (nullable = true)\n",
            " |-- Year: string (nullable = true)\n",
            " |-- Rd: string (nullable = true)\n",
            " |-- Overall: string (nullable = true)\n",
            " |-- From: string (nullable = true)\n",
            " |-- To: string (nullable = true)\n",
            " |-- G: string (nullable = true)\n",
            " |-- MP: string (nullable = true)\n",
            " |-- FG: string (nullable = true)\n",
            " |-- FGA: string (nullable = true)\n",
            " |-- 3P: string (nullable = true)\n",
            " |-- 3PA: string (nullable = true)\n",
            " |-- FT: string (nullable = true)\n",
            " |-- FTA: string (nullable = true)\n",
            " |-- ORB: string (nullable = true)\n",
            " |-- TRB: string (nullable = true)\n",
            " |-- AST: string (nullable = true)\n",
            " |-- STL: string (nullable = true)\n",
            " |-- BLK: string (nullable = true)\n",
            " |-- TOV: string (nullable = true)\n",
            " |-- PF: string (nullable = true)\n",
            " |-- PTS: string (nullable = true)\n",
            " |-- FG%: string (nullable = true)\n",
            " |-- 3P%: string (nullable = true)\n",
            " |-- FT%: string (nullable = true)\n",
            " |-- MP/G: string (nullable = true)\n",
            " |-- PTS/G: string (nullable = true)\n",
            " |-- TRB/G: string (nullable = true)\n",
            " |-- AST/G: string (nullable = true)\n",
            "\n"
          ]
        }
      ]
    },
    {
      "cell_type": "markdown",
      "source": [
        "# Alterando o tipo da coluna year para inteiro para testar se o union by name aceite que os tipos das colunas sejam diferentes."
      ],
      "metadata": {
        "id": "_OgpNQefUhxp"
      }
    },
    {
      "cell_type": "code",
      "source": [
        "df_2_nova_ordem = df_2_nova_ordem.withColumn(\"Year\", F.col(\"Year\").cast(\"int\"))"
      ],
      "metadata": {
        "id": "zOBwPjxpT6m2"
      },
      "execution_count": 19,
      "outputs": []
    },
    {
      "cell_type": "code",
      "source": [
        "df_2_nova_ordem.printSchema()"
      ],
      "metadata": {
        "colab": {
          "base_uri": "https://localhost:8080/"
        },
        "id": "vapzYWM_UPXz",
        "outputId": "fe6e2be8-2403-441d-85b8-2fe356d57394"
      },
      "execution_count": 18,
      "outputs": [
        {
          "output_type": "stream",
          "name": "stdout",
          "text": [
            "root\n",
            " |-- Player: string (nullable = true)\n",
            " |-- BLK: string (nullable = true)\n",
            " |-- PTS/G: string (nullable = true)\n",
            " |-- FGA: string (nullable = true)\n",
            " |-- FG%: string (nullable = true)\n",
            " |-- FT%: string (nullable = true)\n",
            " |-- Year: integer (nullable = true)\n",
            " |-- Rd: string (nullable = true)\n",
            " |-- Overall: string (nullable = true)\n",
            " |-- From: string (nullable = true)\n",
            " |-- To: string (nullable = true)\n",
            " |-- G: string (nullable = true)\n",
            " |-- MP: string (nullable = true)\n",
            " |-- FG: string (nullable = true)\n",
            " |-- 3P: string (nullable = true)\n",
            " |-- 3PA: string (nullable = true)\n",
            " |-- FT: string (nullable = true)\n",
            " |-- FTA: string (nullable = true)\n",
            " |-- ORB: string (nullable = true)\n",
            " |-- TRB: string (nullable = true)\n",
            " |-- AST: string (nullable = true)\n",
            " |-- STL: string (nullable = true)\n",
            " |-- TOV: string (nullable = true)\n",
            " |-- PF: string (nullable = true)\n",
            " |-- PTS: string (nullable = true)\n",
            " |-- 3P%: string (nullable = true)\n",
            " |-- MP/G: string (nullable = true)\n",
            " |-- TRB/G: string (nullable = true)\n",
            " |-- AST/G: string (nullable = true)\n",
            "\n"
          ]
        }
      ]
    },
    {
      "cell_type": "code",
      "source": [
        "union_df_by_name = df_1.unionByName(df_2_nova_ordem)"
      ],
      "metadata": {
        "id": "LMCHqhTmUSJD"
      },
      "execution_count": 20,
      "outputs": []
    },
    {
      "cell_type": "markdown",
      "source": [
        "# Aceita mas volta a ser string como na tabela da \"esquerda\""
      ],
      "metadata": {
        "id": "Xr2L8rRHUvTM"
      }
    },
    {
      "cell_type": "code",
      "source": [
        "union_df_by_name.printSchema()"
      ],
      "metadata": {
        "colab": {
          "base_uri": "https://localhost:8080/"
        },
        "id": "3d6MH5e4Uoko",
        "outputId": "805d9f80-e8b3-4b0d-a6ce-5d04986898fb"
      },
      "execution_count": 21,
      "outputs": [
        {
          "output_type": "stream",
          "name": "stdout",
          "text": [
            "root\n",
            " |-- Player: string (nullable = true)\n",
            " |-- Year: string (nullable = true)\n",
            " |-- Rd: string (nullable = true)\n",
            " |-- Overall: string (nullable = true)\n",
            " |-- From: string (nullable = true)\n",
            " |-- To: string (nullable = true)\n",
            " |-- G: string (nullable = true)\n",
            " |-- MP: string (nullable = true)\n",
            " |-- FG: string (nullable = true)\n",
            " |-- FGA: string (nullable = true)\n",
            " |-- 3P: string (nullable = true)\n",
            " |-- 3PA: string (nullable = true)\n",
            " |-- FT: string (nullable = true)\n",
            " |-- FTA: string (nullable = true)\n",
            " |-- ORB: string (nullable = true)\n",
            " |-- TRB: string (nullable = true)\n",
            " |-- AST: string (nullable = true)\n",
            " |-- STL: string (nullable = true)\n",
            " |-- BLK: string (nullable = true)\n",
            " |-- TOV: string (nullable = true)\n",
            " |-- PF: string (nullable = true)\n",
            " |-- PTS: string (nullable = true)\n",
            " |-- FG%: string (nullable = true)\n",
            " |-- 3P%: string (nullable = true)\n",
            " |-- FT%: string (nullable = true)\n",
            " |-- MP/G: string (nullable = true)\n",
            " |-- PTS/G: string (nullable = true)\n",
            " |-- TRB/G: string (nullable = true)\n",
            " |-- AST/G: string (nullable = true)\n",
            "\n"
          ]
        }
      ]
    },
    {
      "cell_type": "code",
      "source": [],
      "metadata": {
        "id": "eGczSVKsUsE_"
      },
      "execution_count": null,
      "outputs": []
    }
  ]
}